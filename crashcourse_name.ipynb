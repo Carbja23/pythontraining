{
 "cells": [
  {
   "cell_type": "code",
   "execution_count": 4,
   "metadata": {},
   "outputs": [
    {
     "name": "stdout",
     "output_type": "stream",
     "text": [
      "Hello! Python World!\n",
      "Hello! Python World!\n",
      "Hello! Python Crash Course World!\n"
     ]
    }
   ],
   "source": [
    "print(\"Hello! Python World!\")\n",
    "\n",
    "message = \"Hello! Python World!\"\n",
    "print(message)\n",
    "\n",
    "message = \"Hello! Python Crash Course World!\"\n",
    "print(message)"
   ]
  },
  {
   "cell_type": "code",
   "execution_count": 5,
   "metadata": {},
   "outputs": [
    {
     "name": "stdout",
     "output_type": "stream",
     "text": [
      "John Carberry\n",
      "john carberry\n",
      "JOHN CARBERRY\n",
      "john\n",
      "carberry\n",
      "john carberry\n",
      "Hello John Carberry!\n"
     ]
    }
   ],
   "source": [
    "name = \"john carberry\"\n",
    "print(name.title())\n",
    "print(name.lower())\n",
    "print(name.upper())\n",
    "\n",
    "first_name = \"john\"\n",
    "last_name = \"carberry\"\n",
    "full_name = first_name + \" \" + last_name\n",
    "\n",
    "print(first_name)\n",
    "print(last_name)\n",
    "print(full_name)\n",
    "\n",
    "message = \"Hello \" + full_name.title() + \"!\"\n",
    "\n",
    "print(message)"
   ]
  },
  {
   "cell_type": "code",
   "execution_count": 8,
   "metadata": {},
   "outputs": [
    {
     "name": "stdout",
     "output_type": "stream",
     "text": [
      "Python\n",
      "/tPython\n"
     ]
    }
   ],
   "source": [
    "print(\"Python\")\n",
    "\n",
    "print(\"/tPython\")"
   ]
  },
  {
   "cell_type": "code",
   "execution_count": null,
   "metadata": {},
   "outputs": [],
   "source": []
  }
 ],
 "metadata": {
  "kernelspec": {
   "display_name": "Python 3",
   "language": "python",
   "name": "python3"
  },
  "language_info": {
   "codemirror_mode": {
    "name": "ipython",
    "version": 3
   },
   "file_extension": ".py",
   "mimetype": "text/x-python",
   "name": "python",
   "nbconvert_exporter": "python",
   "pygments_lexer": "ipython3",
   "version": "3.6.6"
  }
 },
 "nbformat": 4,
 "nbformat_minor": 2
}
